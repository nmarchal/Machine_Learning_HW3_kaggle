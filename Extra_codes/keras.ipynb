{
 "cells": [
  {
   "cell_type": "markdown",
   "metadata": {},
   "source": [
    "## NOT successful attempt to solve Rossman store\n",
    "\n",
    "### developped by 2 NUS students, A0175196U, A0174733B\n",
    "\n",
    "#### This requires to instal the eras library to anaconda ! Keras allows us to build our neral networks, chose the number of hidden layers etc"
   ]
  },
  {
   "cell_type": "code",
   "execution_count": 2,
   "metadata": {
    "collapsed": true
   },
   "outputs": [],
   "source": [
    "import numpy as np\n",
    "import pandas\n",
    "from sklearn import preprocessing\n",
    "from sklearn.model_selection import train_test_split\n",
    "\n",
    "from keras.models import Sequential\n",
    "from keras.layers.core import Dense, Activation, Dropout\n",
    "from keras.optimizers import SGD\n",
    "import numpy as np"
   ]
  },
  {
   "cell_type": "code",
   "execution_count": null,
   "metadata": {
    "collapsed": true
   },
   "outputs": [],
   "source": []
  },
  {
   "cell_type": "code",
   "execution_count": 3,
   "metadata": {
    "collapsed": true
   },
   "outputs": [],
   "source": [
    "store = pandas.read_csv('store.csv', sep = ',')\n",
    "train_initial = pandas.read_csv('train_v2.csv',dtype={\"StateHoliday\": str})\n",
    "test = pandas.read_csv('test_v2.csv', sep = \",\") \n",
    "\n",
    "#take out the sales (we don't have this info in the test)\n",
    "sales_train = train_initial['Sales']\n",
    "train = train_initial.drop('Sales', axis=1)\n",
    "\n",
    "\n",
    "#take out days were it's closed\n",
    "sales_train = pandas.Series.to_frame(sales_train)\n",
    "train = train[train.Customers != 0]\n",
    "sales_train = sales_train[sales_train.Sales != 0]"
   ]
  },
  {
   "cell_type": "markdown",
   "metadata": {},
   "source": [
    " "
   ]
  },
  {
   "cell_type": "code",
   "execution_count": null,
   "metadata": {
    "collapsed": true
   },
   "outputs": [],
   "source": []
  },
  {
   "cell_type": "code",
   "execution_count": null,
   "metadata": {
    "collapsed": true
   },
   "outputs": [],
   "source": []
  },
  {
   "cell_type": "code",
   "execution_count": 4,
   "metadata": {
    "collapsed": true,
    "scrolled": true
   },
   "outputs": [],
   "source": [
    "# take out the stores with no sales - \n",
    "# train = train[train.Sales != 0] |||| NOT SURE IF GOOD IDEA\n",
    "\n",
    "# put the 2 types of data together\n",
    "df = train.join(store.set_index('Store'), on='Store')\n",
    "test = test.join(store.set_index('Store'), on='Store')\n",
    "\n",
    "# extract the date as day/month/year/weak of the year\n",
    "df['Date']  = pandas.to_datetime(df['Date'], errors='coerce')\n",
    "df['Year']  = df['Date'].dt.year\n",
    "df['Month'] = df['Date'].dt.month\n",
    "df['Day'] = df['Date'].dt.day\n",
    "df['WeekOfYear'] = df['Date'].dt.weekofyear\n",
    "\n",
    "test['Date']  = pandas.to_datetime(test['Date'], errors='coerce')\n",
    "test['Year']  = test['Date'].dt.year\n",
    "test['Month'] = test['Date'].dt.month\n",
    "test['Day'] = test['Date'].dt.day\n",
    "test['WeekOfYear'] = test['Date'].dt.weekofyear"
   ]
  },
  {
   "cell_type": "code",
   "execution_count": null,
   "metadata": {
    "collapsed": true
   },
   "outputs": [],
   "source": []
  },
  {
   "cell_type": "code",
   "execution_count": null,
   "metadata": {
    "collapsed": true
   },
   "outputs": [],
   "source": []
  },
  {
   "cell_type": "code",
   "execution_count": 5,
   "metadata": {
    "collapsed": true
   },
   "outputs": [],
   "source": [
    "# combine all to make sure test and data get the same dummies \n",
    "number_train = df.shape[0]\n",
    "number_test = test.shape[0]\n",
    "frames = [df,test]\n",
    "result = pandas.concat(frames)"
   ]
  },
  {
   "cell_type": "code",
   "execution_count": 6,
   "metadata": {
    "collapsed": true
   },
   "outputs": [],
   "source": [
    "def month_difference (comp_year, our_year, comp_month, our_month):\n",
    "    difference = our_month - comp_month + 12*(our_year-comp_year)\n",
    "    return difference\n",
    "\n",
    "result['CompetitionOpenSinceHowLong'] = month_difference (result['CompetitionOpenSinceYear'],result['Year'],\n",
    "                                                       result['CompetitionOpenSinceMonth'],result['Month'])\n"
   ]
  },
  {
   "cell_type": "code",
   "execution_count": 7,
   "metadata": {
    "collapsed": true
   },
   "outputs": [],
   "source": [
    "#drop some of the feature\n",
    "\n",
    "result.drop(['Store', 'CompetitionOpenSinceMonth', 'Promo2SinceWeek', \n",
    "             'PromoInterval','Date','Day'], axis=1, inplace=True)"
   ]
  },
  {
   "cell_type": "code",
   "execution_count": 8,
   "metadata": {
    "collapsed": true
   },
   "outputs": [],
   "source": [
    "mappings = {'0':0, 'a':1, 'b':2, 'c':3, 'd':4}\n",
    "result.StateHoliday.replace(mappings, inplace=True)\n",
    "result.StoreType.replace(mappings, inplace=True)\n",
    "result.Assortment.replace(mappings, inplace=True)"
   ]
  },
  {
   "cell_type": "code",
   "execution_count": null,
   "metadata": {
    "collapsed": true
   },
   "outputs": [],
   "source": []
  },
  {
   "cell_type": "code",
   "execution_count": 9,
   "metadata": {
    "collapsed": true
   },
   "outputs": [],
   "source": [
    "result = pandas.get_dummies(result, columns=['DayOfWeek', 'StateHoliday', 'StoreType', \n",
    "                                             'Assortment', 'Month', 'WeekOfYear', 'CompetitionOpenSinceYear', \n",
    "                                             'Promo2SinceYear', 'CompetitionOpenSinceHowLong' ], dummy_na = True)"
   ]
  },
  {
   "cell_type": "code",
   "execution_count": 10,
   "metadata": {
    "collapsed": true
   },
   "outputs": [],
   "source": [
    "# def days_between(d1, d2): #d1 and d2 must be datetime object\n",
    "#     d1 = datetime.strptime(d1, \"%Y-%m-%d\")\n",
    "#     d2 = datetime.strptime(d2, \"%Y-%m-%d\")\n",
    "#     return abs((d2 - d1).days)"
   ]
  },
  {
   "cell_type": "code",
   "execution_count": 11,
   "metadata": {
    "collapsed": true
   },
   "outputs": [],
   "source": [
    "# def scalling (category) :\n",
    "#     result[category] = result[category] - result[category].mean()\n",
    "#     \n",
    "# scalling ('Year')\n",
    "# scalling('Customers')\n",
    "\n",
    "# result['CompetitionDistance'] = result['CompetitionDistance'].fillna(0)\n",
    "# \n",
    "# result['CompetitionFar'] = 0*result['CompetitionDistance']\n",
    "\n",
    "\n",
    "        \n",
    "\n",
    "        "
   ]
  },
  {
   "cell_type": "code",
   "execution_count": 12,
   "metadata": {
    "collapsed": true
   },
   "outputs": [],
   "source": [
    "# for i in range (result.shape[0]) :\n",
    "#     if result['CompetitionExist'].iloc[i] > 0 :\n",
    "#         result['CompetitionExist'].iloc[i] = 1\n",
    "#     else :\n",
    "#         result['CompetitionExist'].iloc[i] = 0\n",
    "        \n",
    "    # if result['CompetitionDistance'].iloc[i] > result['CompetitionDistance'].mean() :\n",
    "    #     result['CompetitionFar'].iloc[i] = 1\n",
    "    # else :\n",
    "    #     result['CompetitionFar'].iloc[i] = 0"
   ]
  },
  {
   "cell_type": "code",
   "execution_count": 13,
   "metadata": {},
   "outputs": [
    {
     "data": {
      "text/html": [
       "<div>\n",
       "<style>\n",
       "    .dataframe thead tr:only-child th {\n",
       "        text-align: right;\n",
       "    }\n",
       "\n",
       "    .dataframe thead th {\n",
       "        text-align: left;\n",
       "    }\n",
       "\n",
       "    .dataframe tbody tr th {\n",
       "        vertical-align: top;\n",
       "    }\n",
       "</style>\n",
       "<table border=\"1\" class=\"dataframe\">\n",
       "  <thead>\n",
       "    <tr style=\"text-align: right;\">\n",
       "      <th></th>\n",
       "      <th>Customers</th>\n",
       "      <th>Open</th>\n",
       "      <th>Promo</th>\n",
       "      <th>SchoolHoliday</th>\n",
       "      <th>CompetitionDistance</th>\n",
       "      <th>Promo2</th>\n",
       "      <th>Year</th>\n",
       "      <th>DayOfWeek_1.0</th>\n",
       "      <th>DayOfWeek_2.0</th>\n",
       "      <th>DayOfWeek_3.0</th>\n",
       "      <th>...</th>\n",
       "      <th>CompetitionOpenSinceHowLong_295.0</th>\n",
       "      <th>CompetitionOpenSinceHowLong_300.0</th>\n",
       "      <th>CompetitionOpenSinceHowLong_301.0</th>\n",
       "      <th>CompetitionOpenSinceHowLong_637.0</th>\n",
       "      <th>CompetitionOpenSinceHowLong_638.0</th>\n",
       "      <th>CompetitionOpenSinceHowLong_639.0</th>\n",
       "      <th>CompetitionOpenSinceHowLong_645.0</th>\n",
       "      <th>CompetitionOpenSinceHowLong_1380.0</th>\n",
       "      <th>CompetitionOpenSinceHowLong_1386.0</th>\n",
       "      <th>CompetitionOpenSinceHowLong_nan</th>\n",
       "    </tr>\n",
       "  </thead>\n",
       "  <tbody>\n",
       "    <tr>\n",
       "      <th>0</th>\n",
       "      <td>616</td>\n",
       "      <td>1</td>\n",
       "      <td>1</td>\n",
       "      <td>0</td>\n",
       "      <td>1270.0</td>\n",
       "      <td>0</td>\n",
       "      <td>2015</td>\n",
       "      <td>0</td>\n",
       "      <td>0</td>\n",
       "      <td>0</td>\n",
       "      <td>...</td>\n",
       "      <td>0</td>\n",
       "      <td>0</td>\n",
       "      <td>0</td>\n",
       "      <td>0</td>\n",
       "      <td>0</td>\n",
       "      <td>0</td>\n",
       "      <td>0</td>\n",
       "      <td>0</td>\n",
       "      <td>0</td>\n",
       "      <td>0</td>\n",
       "    </tr>\n",
       "    <tr>\n",
       "      <th>1</th>\n",
       "      <td>624</td>\n",
       "      <td>1</td>\n",
       "      <td>1</td>\n",
       "      <td>0</td>\n",
       "      <td>570.0</td>\n",
       "      <td>1</td>\n",
       "      <td>2015</td>\n",
       "      <td>0</td>\n",
       "      <td>0</td>\n",
       "      <td>0</td>\n",
       "      <td>...</td>\n",
       "      <td>0</td>\n",
       "      <td>0</td>\n",
       "      <td>0</td>\n",
       "      <td>0</td>\n",
       "      <td>0</td>\n",
       "      <td>0</td>\n",
       "      <td>0</td>\n",
       "      <td>0</td>\n",
       "      <td>0</td>\n",
       "      <td>0</td>\n",
       "    </tr>\n",
       "    <tr>\n",
       "      <th>2</th>\n",
       "      <td>678</td>\n",
       "      <td>1</td>\n",
       "      <td>1</td>\n",
       "      <td>0</td>\n",
       "      <td>14130.0</td>\n",
       "      <td>1</td>\n",
       "      <td>2015</td>\n",
       "      <td>0</td>\n",
       "      <td>0</td>\n",
       "      <td>0</td>\n",
       "      <td>...</td>\n",
       "      <td>0</td>\n",
       "      <td>0</td>\n",
       "      <td>0</td>\n",
       "      <td>0</td>\n",
       "      <td>0</td>\n",
       "      <td>0</td>\n",
       "      <td>0</td>\n",
       "      <td>0</td>\n",
       "      <td>0</td>\n",
       "      <td>0</td>\n",
       "    </tr>\n",
       "    <tr>\n",
       "      <th>3</th>\n",
       "      <td>1632</td>\n",
       "      <td>1</td>\n",
       "      <td>1</td>\n",
       "      <td>0</td>\n",
       "      <td>620.0</td>\n",
       "      <td>0</td>\n",
       "      <td>2015</td>\n",
       "      <td>0</td>\n",
       "      <td>0</td>\n",
       "      <td>0</td>\n",
       "      <td>...</td>\n",
       "      <td>0</td>\n",
       "      <td>0</td>\n",
       "      <td>0</td>\n",
       "      <td>0</td>\n",
       "      <td>0</td>\n",
       "      <td>0</td>\n",
       "      <td>0</td>\n",
       "      <td>0</td>\n",
       "      <td>0</td>\n",
       "      <td>0</td>\n",
       "    </tr>\n",
       "    <tr>\n",
       "      <th>4</th>\n",
       "      <td>617</td>\n",
       "      <td>1</td>\n",
       "      <td>1</td>\n",
       "      <td>0</td>\n",
       "      <td>29910.0</td>\n",
       "      <td>0</td>\n",
       "      <td>2015</td>\n",
       "      <td>0</td>\n",
       "      <td>0</td>\n",
       "      <td>0</td>\n",
       "      <td>...</td>\n",
       "      <td>0</td>\n",
       "      <td>0</td>\n",
       "      <td>0</td>\n",
       "      <td>0</td>\n",
       "      <td>0</td>\n",
       "      <td>0</td>\n",
       "      <td>0</td>\n",
       "      <td>0</td>\n",
       "      <td>0</td>\n",
       "      <td>0</td>\n",
       "    </tr>\n",
       "  </tbody>\n",
       "</table>\n",
       "<p>5 rows × 307 columns</p>\n",
       "</div>"
      ],
      "text/plain": [
       "   Customers  Open  Promo  SchoolHoliday  CompetitionDistance  Promo2  Year  \\\n",
       "0        616     1      1              0               1270.0       0  2015   \n",
       "1        624     1      1              0                570.0       1  2015   \n",
       "2        678     1      1              0              14130.0       1  2015   \n",
       "3       1632     1      1              0                620.0       0  2015   \n",
       "4        617     1      1              0              29910.0       0  2015   \n",
       "\n",
       "   DayOfWeek_1.0  DayOfWeek_2.0  DayOfWeek_3.0  \\\n",
       "0              0              0              0   \n",
       "1              0              0              0   \n",
       "2              0              0              0   \n",
       "3              0              0              0   \n",
       "4              0              0              0   \n",
       "\n",
       "                ...                 CompetitionOpenSinceHowLong_295.0  \\\n",
       "0               ...                                                 0   \n",
       "1               ...                                                 0   \n",
       "2               ...                                                 0   \n",
       "3               ...                                                 0   \n",
       "4               ...                                                 0   \n",
       "\n",
       "   CompetitionOpenSinceHowLong_300.0  CompetitionOpenSinceHowLong_301.0  \\\n",
       "0                                  0                                  0   \n",
       "1                                  0                                  0   \n",
       "2                                  0                                  0   \n",
       "3                                  0                                  0   \n",
       "4                                  0                                  0   \n",
       "\n",
       "   CompetitionOpenSinceHowLong_637.0  CompetitionOpenSinceHowLong_638.0  \\\n",
       "0                                  0                                  0   \n",
       "1                                  0                                  0   \n",
       "2                                  0                                  0   \n",
       "3                                  0                                  0   \n",
       "4                                  0                                  0   \n",
       "\n",
       "   CompetitionOpenSinceHowLong_639.0  CompetitionOpenSinceHowLong_645.0  \\\n",
       "0                                  0                                  0   \n",
       "1                                  0                                  0   \n",
       "2                                  0                                  0   \n",
       "3                                  0                                  0   \n",
       "4                                  0                                  0   \n",
       "\n",
       "   CompetitionOpenSinceHowLong_1380.0  CompetitionOpenSinceHowLong_1386.0  \\\n",
       "0                                   0                                   0   \n",
       "1                                   0                                   0   \n",
       "2                                   0                                   0   \n",
       "3                                   0                                   0   \n",
       "4                                   0                                   0   \n",
       "\n",
       "   CompetitionOpenSinceHowLong_nan  \n",
       "0                                0  \n",
       "1                                0  \n",
       "2                                0  \n",
       "3                                0  \n",
       "4                                0  \n",
       "\n",
       "[5 rows x 307 columns]"
      ]
     },
     "execution_count": 13,
     "metadata": {},
     "output_type": "execute_result"
    }
   ],
   "source": [
    "result.head()"
   ]
  },
  {
   "cell_type": "code",
   "execution_count": null,
   "metadata": {
    "collapsed": true
   },
   "outputs": [],
   "source": []
  },
  {
   "cell_type": "code",
   "execution_count": 14,
   "metadata": {
    "collapsed": true
   },
   "outputs": [],
   "source": [
    "df = result.iloc[:number_train,:]\n",
    "test = result.iloc[number_train:,:]"
   ]
  },
  {
   "cell_type": "code",
   "execution_count": 15,
   "metadata": {
    "collapsed": true
   },
   "outputs": [],
   "source": [
    "df = df.astype(np.float32)\n",
    "test = test.astype(np.float32)"
   ]
  },
  {
   "cell_type": "code",
   "execution_count": null,
   "metadata": {
    "collapsed": true,
    "scrolled": true
   },
   "outputs": [],
   "source": []
  },
  {
   "cell_type": "code",
   "execution_count": null,
   "metadata": {
    "collapsed": true
   },
   "outputs": [],
   "source": []
  },
  {
   "cell_type": "code",
   "execution_count": null,
   "metadata": {
    "collapsed": true
   },
   "outputs": [],
   "source": [
    "\n"
   ]
  },
  {
   "cell_type": "code",
   "execution_count": null,
   "metadata": {
    "collapsed": true
   },
   "outputs": [],
   "source": []
  },
  {
   "cell_type": "code",
   "execution_count": 16,
   "metadata": {
    "scrolled": true
   },
   "outputs": [
    {
     "data": {
      "text/html": [
       "<div>\n",
       "<style>\n",
       "    .dataframe thead tr:only-child th {\n",
       "        text-align: right;\n",
       "    }\n",
       "\n",
       "    .dataframe thead th {\n",
       "        text-align: left;\n",
       "    }\n",
       "\n",
       "    .dataframe tbody tr th {\n",
       "        vertical-align: top;\n",
       "    }\n",
       "</style>\n",
       "<table border=\"1\" class=\"dataframe\">\n",
       "  <thead>\n",
       "    <tr style=\"text-align: right;\">\n",
       "      <th></th>\n",
       "      <th>Customers</th>\n",
       "      <th>Open</th>\n",
       "      <th>Promo</th>\n",
       "      <th>SchoolHoliday</th>\n",
       "      <th>CompetitionDistance</th>\n",
       "      <th>Promo2</th>\n",
       "      <th>Year</th>\n",
       "      <th>DayOfWeek_1.0</th>\n",
       "      <th>DayOfWeek_2.0</th>\n",
       "      <th>DayOfWeek_3.0</th>\n",
       "      <th>...</th>\n",
       "      <th>CompetitionOpenSinceHowLong_295.0</th>\n",
       "      <th>CompetitionOpenSinceHowLong_300.0</th>\n",
       "      <th>CompetitionOpenSinceHowLong_301.0</th>\n",
       "      <th>CompetitionOpenSinceHowLong_637.0</th>\n",
       "      <th>CompetitionOpenSinceHowLong_638.0</th>\n",
       "      <th>CompetitionOpenSinceHowLong_639.0</th>\n",
       "      <th>CompetitionOpenSinceHowLong_645.0</th>\n",
       "      <th>CompetitionOpenSinceHowLong_1380.0</th>\n",
       "      <th>CompetitionOpenSinceHowLong_1386.0</th>\n",
       "      <th>CompetitionOpenSinceHowLong_nan</th>\n",
       "    </tr>\n",
       "  </thead>\n",
       "  <tbody>\n",
       "    <tr>\n",
       "      <th>0</th>\n",
       "      <td>616.0</td>\n",
       "      <td>1.0</td>\n",
       "      <td>1.0</td>\n",
       "      <td>0.0</td>\n",
       "      <td>1270.0</td>\n",
       "      <td>0.0</td>\n",
       "      <td>2015.0</td>\n",
       "      <td>0.0</td>\n",
       "      <td>0.0</td>\n",
       "      <td>0.0</td>\n",
       "      <td>...</td>\n",
       "      <td>0.0</td>\n",
       "      <td>0.0</td>\n",
       "      <td>0.0</td>\n",
       "      <td>0.0</td>\n",
       "      <td>0.0</td>\n",
       "      <td>0.0</td>\n",
       "      <td>0.0</td>\n",
       "      <td>0.0</td>\n",
       "      <td>0.0</td>\n",
       "      <td>0.0</td>\n",
       "    </tr>\n",
       "    <tr>\n",
       "      <th>1</th>\n",
       "      <td>624.0</td>\n",
       "      <td>1.0</td>\n",
       "      <td>1.0</td>\n",
       "      <td>0.0</td>\n",
       "      <td>570.0</td>\n",
       "      <td>1.0</td>\n",
       "      <td>2015.0</td>\n",
       "      <td>0.0</td>\n",
       "      <td>0.0</td>\n",
       "      <td>0.0</td>\n",
       "      <td>...</td>\n",
       "      <td>0.0</td>\n",
       "      <td>0.0</td>\n",
       "      <td>0.0</td>\n",
       "      <td>0.0</td>\n",
       "      <td>0.0</td>\n",
       "      <td>0.0</td>\n",
       "      <td>0.0</td>\n",
       "      <td>0.0</td>\n",
       "      <td>0.0</td>\n",
       "      <td>0.0</td>\n",
       "    </tr>\n",
       "    <tr>\n",
       "      <th>2</th>\n",
       "      <td>678.0</td>\n",
       "      <td>1.0</td>\n",
       "      <td>1.0</td>\n",
       "      <td>0.0</td>\n",
       "      <td>14130.0</td>\n",
       "      <td>1.0</td>\n",
       "      <td>2015.0</td>\n",
       "      <td>0.0</td>\n",
       "      <td>0.0</td>\n",
       "      <td>0.0</td>\n",
       "      <td>...</td>\n",
       "      <td>0.0</td>\n",
       "      <td>0.0</td>\n",
       "      <td>0.0</td>\n",
       "      <td>0.0</td>\n",
       "      <td>0.0</td>\n",
       "      <td>0.0</td>\n",
       "      <td>0.0</td>\n",
       "      <td>0.0</td>\n",
       "      <td>0.0</td>\n",
       "      <td>0.0</td>\n",
       "    </tr>\n",
       "    <tr>\n",
       "      <th>3</th>\n",
       "      <td>1632.0</td>\n",
       "      <td>1.0</td>\n",
       "      <td>1.0</td>\n",
       "      <td>0.0</td>\n",
       "      <td>620.0</td>\n",
       "      <td>0.0</td>\n",
       "      <td>2015.0</td>\n",
       "      <td>0.0</td>\n",
       "      <td>0.0</td>\n",
       "      <td>0.0</td>\n",
       "      <td>...</td>\n",
       "      <td>0.0</td>\n",
       "      <td>0.0</td>\n",
       "      <td>0.0</td>\n",
       "      <td>0.0</td>\n",
       "      <td>0.0</td>\n",
       "      <td>0.0</td>\n",
       "      <td>0.0</td>\n",
       "      <td>0.0</td>\n",
       "      <td>0.0</td>\n",
       "      <td>0.0</td>\n",
       "    </tr>\n",
       "    <tr>\n",
       "      <th>4</th>\n",
       "      <td>617.0</td>\n",
       "      <td>1.0</td>\n",
       "      <td>1.0</td>\n",
       "      <td>0.0</td>\n",
       "      <td>29910.0</td>\n",
       "      <td>0.0</td>\n",
       "      <td>2015.0</td>\n",
       "      <td>0.0</td>\n",
       "      <td>0.0</td>\n",
       "      <td>0.0</td>\n",
       "      <td>...</td>\n",
       "      <td>0.0</td>\n",
       "      <td>0.0</td>\n",
       "      <td>0.0</td>\n",
       "      <td>0.0</td>\n",
       "      <td>0.0</td>\n",
       "      <td>0.0</td>\n",
       "      <td>0.0</td>\n",
       "      <td>0.0</td>\n",
       "      <td>0.0</td>\n",
       "      <td>0.0</td>\n",
       "    </tr>\n",
       "  </tbody>\n",
       "</table>\n",
       "<p>5 rows × 307 columns</p>\n",
       "</div>"
      ],
      "text/plain": [
       "   Customers  Open  Promo  SchoolHoliday  CompetitionDistance  Promo2    Year  \\\n",
       "0      616.0   1.0    1.0            0.0               1270.0     0.0  2015.0   \n",
       "1      624.0   1.0    1.0            0.0                570.0     1.0  2015.0   \n",
       "2      678.0   1.0    1.0            0.0              14130.0     1.0  2015.0   \n",
       "3     1632.0   1.0    1.0            0.0                620.0     0.0  2015.0   \n",
       "4      617.0   1.0    1.0            0.0              29910.0     0.0  2015.0   \n",
       "\n",
       "   DayOfWeek_1.0  DayOfWeek_2.0  DayOfWeek_3.0  \\\n",
       "0            0.0            0.0            0.0   \n",
       "1            0.0            0.0            0.0   \n",
       "2            0.0            0.0            0.0   \n",
       "3            0.0            0.0            0.0   \n",
       "4            0.0            0.0            0.0   \n",
       "\n",
       "                ...                 CompetitionOpenSinceHowLong_295.0  \\\n",
       "0               ...                                               0.0   \n",
       "1               ...                                               0.0   \n",
       "2               ...                                               0.0   \n",
       "3               ...                                               0.0   \n",
       "4               ...                                               0.0   \n",
       "\n",
       "   CompetitionOpenSinceHowLong_300.0  CompetitionOpenSinceHowLong_301.0  \\\n",
       "0                                0.0                                0.0   \n",
       "1                                0.0                                0.0   \n",
       "2                                0.0                                0.0   \n",
       "3                                0.0                                0.0   \n",
       "4                                0.0                                0.0   \n",
       "\n",
       "   CompetitionOpenSinceHowLong_637.0  CompetitionOpenSinceHowLong_638.0  \\\n",
       "0                                0.0                                0.0   \n",
       "1                                0.0                                0.0   \n",
       "2                                0.0                                0.0   \n",
       "3                                0.0                                0.0   \n",
       "4                                0.0                                0.0   \n",
       "\n",
       "   CompetitionOpenSinceHowLong_639.0  CompetitionOpenSinceHowLong_645.0  \\\n",
       "0                                0.0                                0.0   \n",
       "1                                0.0                                0.0   \n",
       "2                                0.0                                0.0   \n",
       "3                                0.0                                0.0   \n",
       "4                                0.0                                0.0   \n",
       "\n",
       "   CompetitionOpenSinceHowLong_1380.0  CompetitionOpenSinceHowLong_1386.0  \\\n",
       "0                                 0.0                                 0.0   \n",
       "1                                 0.0                                 0.0   \n",
       "2                                 0.0                                 0.0   \n",
       "3                                 0.0                                 0.0   \n",
       "4                                 0.0                                 0.0   \n",
       "\n",
       "   CompetitionOpenSinceHowLong_nan  \n",
       "0                              0.0  \n",
       "1                              0.0  \n",
       "2                              0.0  \n",
       "3                              0.0  \n",
       "4                              0.0  \n",
       "\n",
       "[5 rows x 307 columns]"
      ]
     },
     "execution_count": 16,
     "metadata": {},
     "output_type": "execute_result"
    }
   ],
   "source": [
    "df.head()"
   ]
  },
  {
   "cell_type": "code",
   "execution_count": null,
   "metadata": {
    "collapsed": true
   },
   "outputs": [],
   "source": []
  },
  {
   "cell_type": "code",
   "execution_count": null,
   "metadata": {
    "collapsed": true
   },
   "outputs": [],
   "source": []
  },
  {
   "cell_type": "code",
   "execution_count": 17,
   "metadata": {
    "collapsed": true,
    "scrolled": true
   },
   "outputs": [],
   "source": [
    "#put the data as a numpy array\n",
    "data_train = df.values\n",
    "#sales_train = sales_train_train.values\n",
    "sales_train = pandas.DataFrame.as_matrix(sales_train)"
   ]
  },
  {
   "cell_type": "code",
   "execution_count": 18,
   "metadata": {
    "collapsed": true
   },
   "outputs": [],
   "source": [
    "sales_train = sales_train.reshape(len(sales_train),)"
   ]
  },
  {
   "cell_type": "code",
   "execution_count": 19,
   "metadata": {},
   "outputs": [
    {
     "data": {
      "text/plain": [
       "(54688, 307)"
      ]
     },
     "execution_count": 19,
     "metadata": {},
     "output_type": "execute_result"
    }
   ],
   "source": [
    "data_train.shape"
   ]
  },
  {
   "cell_type": "code",
   "execution_count": 20,
   "metadata": {
    "collapsed": true
   },
   "outputs": [],
   "source": [
    "test_evaluate = test.values"
   ]
  },
  {
   "cell_type": "code",
   "execution_count": 21,
   "metadata": {
    "collapsed": true
   },
   "outputs": [],
   "source": [
    "# normalzing customers\n",
    "#data_train[:,0]= (data_train[:,0] - data_train[:,0].mean()) / data_train[:,0].std( ddof=1)\n",
    "# "
   ]
  },
  {
   "cell_type": "code",
   "execution_count": 22,
   "metadata": {
    "collapsed": true
   },
   "outputs": [],
   "source": [
    "X = data_train\n",
    "y = sales_train\n",
    "y_standard_dev = y.std( ddof=1)\n",
    "y_mean = y.mean()\n",
    "# normalize label\n",
    "y = (y - y_mean) / y_standard_dev"
   ]
  },
  {
   "cell_type": "code",
   "execution_count": 23,
   "metadata": {
    "collapsed": true
   },
   "outputs": [],
   "source": [
    "X_train, X_validation, y_train, y_validation = train_test_split(X, y, test_size=0.30)"
   ]
  },
  {
   "cell_type": "code",
   "execution_count": 31,
   "metadata": {
    "collapsed": true
   },
   "outputs": [],
   "source": [
    "# build sequential neural network model with:\n",
    "# 150 hidden units\n",
    "# 0.2 dropout regularizer\n",
    "# tanh activation function\n",
    "# mean squared error loss function\n",
    "# stochastic gradient descent optimizer\n",
    "\n",
    "model = Sequential()\n",
    "model.add(Dense(70, input_dim=np.shape(X_train)[1], kernel_initializer='uniform'))\n",
    "model.add(Activation('relu'))\n",
    "model.add (Dropout(0.2))\n",
    "model.add(Dense(20, kernel_initializer='uniform'))\n",
    "model.add(Activation('relu'))\n",
    "model.add (Dropout(0.2))\n",
    "model.add(Dense(1))\n",
    "model.add(Activation('sigmoid'))\n",
    "\n",
    "\n",
    "sgd = SGD(lr=0.01, decay=1e-6, momentum=0.9, nesterov=True)\n",
    "\n",
    "model.compile(loss='mean_squared_error', optimizer='adam', metrics=['accuracy'])"
   ]
  },
  {
   "cell_type": "code",
   "execution_count": 32,
   "metadata": {
    "collapsed": true
   },
   "outputs": [],
   "source": [
    "history = model.fit(X_train, y_train, \n",
    "                    verbose=0, \n",
    "                    epochs=2000, \n",
    "                    batch_size=500,\n",
    "                    validation_data=(X_validation, y_validation))"
   ]
  },
  {
   "cell_type": "code",
   "execution_count": 33,
   "metadata": {},
   "outputs": [
    {
     "name": "stdout",
     "output_type": "stream",
     "text": [
      "37248/38281 [============================>.] - ETA: 0s[nan, 0.0]\n",
      "[ nan  nan  nan ...,  nan  nan  nan]\n"
     ]
    }
   ],
   "source": [
    "prediction_in_sample = model.evaluate(X_train, y_train)\n",
    "print (prediction_in_sample)\n",
    "ok = model.predict(X_train).flatten()*y_standard_dev + y_mean\n",
    "print (ok)\n",
    "#np.isnan(prediction_in_sample).sum()"
   ]
  },
  {
   "cell_type": "code",
   "execution_count": null,
   "metadata": {
    "collapsed": true
   },
   "outputs": [],
   "source": [
    "prediction_in_sample_validation = model.predict(X_validation)*y_standard_dev + y_mean"
   ]
  },
  {
   "cell_type": "code",
   "execution_count": null,
   "metadata": {
    "collapsed": true
   },
   "outputs": [],
   "source": [
    "prediction_out_sample = model.predict(test_evaluate)*y_standard_dev + y_mean"
   ]
  },
  {
   "cell_type": "code",
   "execution_count": null,
   "metadata": {
    "collapsed": true
   },
   "outputs": [],
   "source": [
    "for i in range (number_test) :\n",
    "    if test['Customers'].iloc[i] == 0 :\n",
    "        prediction_out_sample[i] = 0"
   ]
  },
  {
   "cell_type": "code",
   "execution_count": null,
   "metadata": {
    "collapsed": true
   },
   "outputs": [],
   "source": [
    "from math import sqrt\n",
    "def rmspe(y,y_pred):\n",
    "    summ = 0\n",
    "    for i in range(len(y)):\n",
    "        if y[i] != 0:\n",
    "            summ += (1-y_pred[i]/y[i])**2\n",
    "    return sqrt(summ/len(y))"
   ]
  },
  {
   "cell_type": "code",
   "execution_count": null,
   "metadata": {
    "collapsed": true
   },
   "outputs": [],
   "source": []
  },
  {
   "cell_type": "code",
   "execution_count": null,
   "metadata": {
    "collapsed": true
   },
   "outputs": [],
   "source": [
    "rmspe (y_train, prediction_in_sample)"
   ]
  },
  {
   "cell_type": "code",
   "execution_count": null,
   "metadata": {
    "collapsed": true
   },
   "outputs": [],
   "source": [
    "prediction_of_sales = prediction_out_sample\n",
    "\n",
    "submission = pandas.DataFrame()\n",
    "submission['Sales'] = prediction_of_sales\n",
    "# submission.Sales = submission.Sales.astype(int)\n",
    "cols = ['Id','Sales']\n",
    "submission['Id'] = submission.index + 1\n",
    "submission = submission[cols]\n",
    "submission.to_csv('submission.csv', index=False)"
   ]
  },
  {
   "cell_type": "code",
   "execution_count": null,
   "metadata": {
    "collapsed": true
   },
   "outputs": [],
   "source": []
  },
  {
   "cell_type": "code",
   "execution_count": null,
   "metadata": {
    "collapsed": true
   },
   "outputs": [],
   "source": [
    "np.shape(X_train[1])"
   ]
  },
  {
   "cell_type": "code",
   "execution_count": null,
   "metadata": {
    "collapsed": true
   },
   "outputs": [],
   "source": []
  },
  {
   "cell_type": "code",
   "execution_count": null,
   "metadata": {
    "collapsed": true
   },
   "outputs": [],
   "source": []
  },
  {
   "cell_type": "code",
   "execution_count": null,
   "metadata": {
    "collapsed": true
   },
   "outputs": [],
   "source": []
  }
 ],
 "metadata": {
  "kernelspec": {
   "display_name": "Python 3",
   "language": "python",
   "name": "python3"
  },
  "language_info": {
   "codemirror_mode": {
    "name": "ipython",
    "version": 3
   },
   "file_extension": ".py",
   "mimetype": "text/x-python",
   "name": "python",
   "nbconvert_exporter": "python",
   "pygments_lexer": "ipython3",
   "version": "3.6.1"
  }
 },
 "nbformat": 4,
 "nbformat_minor": 2
}
