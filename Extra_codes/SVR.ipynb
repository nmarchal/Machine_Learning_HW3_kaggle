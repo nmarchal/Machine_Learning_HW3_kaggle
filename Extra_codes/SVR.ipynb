{
 "cells": [
  {
   "cell_type": "markdown",
   "metadata": {},
   "source": [
    "# SVM did NOT alow us to solve the rossman store problem\n",
    "\n",
    "## this was developed by 2 nus student: A0175196U, A0174733B\n"
   ]
  },
  {
   "cell_type": "code",
   "execution_count": 1,
   "metadata": {
    "collapsed": true
   },
   "outputs": [],
   "source": [
    "import numpy as np\n",
    "import pandas \n",
    "import matplotlib.pyplot as plt\n",
    "from sklearn import svm\n",
    "import numpy as np\n"
   ]
  },
  {
   "cell_type": "code",
   "execution_count": null,
   "metadata": {
    "collapsed": true
   },
   "outputs": [],
   "source": [
    "#read the files\n",
    "store = pandas.read_csv('store.csv', sep = ',')\n",
    "train_initial = pandas.read_csv('train_v2.csv',dtype={\"StateHoliday\": str})\n",
    "test = pandas.read_csv('test_v2.csv', sep = \",\") \n",
    "\n",
    "#take out the sales (we don't have this info in the test)\n",
    "sales_train = train_initial['Sales']\n",
    "train = train_initial.drop('Sales', axis=1)\n",
    "\n",
    "\n",
    "#take out days were it's closed - When 0 customers will be identified in test data\n",
    "# we will automatically put the test sales at 0.\n",
    "sales_train = pandas.Series.to_frame(sales_train)\n",
    "train = train[train.Customers != 0]\n",
    "sales_train = sales_train[sales_train.Sales != 0]"
   ]
  },
  {
   "cell_type": "markdown",
   "metadata": {},
   "source": [
    " "
   ]
  },
  {
   "cell_type": "code",
   "execution_count": null,
   "metadata": {
    "collapsed": true
   },
   "outputs": [],
   "source": []
  },
  {
   "cell_type": "code",
   "execution_count": null,
   "metadata": {
    "collapsed": true,
    "scrolled": true
   },
   "outputs": [],
   "source": [
    "# put the 2 types of data together\n",
    "df = train.join(store.set_index('Store'), on='Store')\n",
    "test = test.join(store.set_index('Store'), on='Store')\n",
    "\n",
    "# extract the date as day/month/year/weak of the year\n",
    "df['Date']  = pandas.to_datetime(df['Date'], errors='coerce')\n",
    "df['Year']  = df['Date'].dt.year\n",
    "df['Month'] = df['Date'].dt.month\n",
    "df['Day'] = df['Date'].dt.day\n",
    "df['WeekOfYear'] = df['Date'].dt.weekofyear\n",
    "\n",
    "test['Date']  = pandas.to_datetime(test['Date'], errors='coerce')\n",
    "test['Year']  = test['Date'].dt.year\n",
    "test['Month'] = test['Date'].dt.month\n",
    "test['Day'] = test['Date'].dt.day\n",
    "test['WeekOfYear'] = test['Date'].dt.weekofyear"
   ]
  },
  {
   "cell_type": "code",
   "execution_count": null,
   "metadata": {
    "collapsed": true
   },
   "outputs": [],
   "source": []
  },
  {
   "cell_type": "code",
   "execution_count": null,
   "metadata": {
    "collapsed": true
   },
   "outputs": [],
   "source": [
    "# combine train and test (in that oder) to make sure all tranformation are the same for \n",
    "# test and train (same dummies etc)\n",
    "number_train = df.shape[0]\n",
    "number_test = test.shape[0]\n",
    "frames = [df,test]\n",
    "result = pandas.concat(frames)"
   ]
  },
  {
   "cell_type": "code",
   "execution_count": null,
   "metadata": {
    "collapsed": true
   },
   "outputs": [],
   "source": [
    "#fill the missing values with -1\n",
    "result = result.fillna(-1)"
   ]
  },
  {
   "cell_type": "code",
   "execution_count": null,
   "metadata": {
    "collapsed": true
   },
   "outputs": [],
   "source": [
    "# the code in this cell has been inspired by a similar function foud online at :\n",
    "# http://www.akbarian.org/notes/sale-forecasting-time-series-analysis/\n",
    "\n",
    "#we will detect wether there is a promotion in this month:\n",
    "monthAsString = {1:'Jan', 2:'Feb', 3:'Mar', 4:'Apr', 5:'May', 6:'Jun',\n",
    "                     7:'Jul', 8:'Aug', 9:'Sept', 10:'Oct', 11:'Nov', 12:'Dec'}\n",
    "result['MonthCompare'] = result.Month.map(monthAsString)\n",
    "\n",
    "result['IsPromo2Month'] = 0\n",
    "\n",
    "for interval in result.PromoInterval.unique():\n",
    "        if interval != -1:\n",
    "            for month in interval.split(','):\n",
    "                condition = (result.MonthCompare == month) & (result.PromoInterval == interval)\n",
    "                # If promo started this year, Week of Year must be > Promo2SinceWeek\n",
    "                cond1 = (condition & (result.Year == result.Promo2SinceYear)\n",
    "                         & (result.WeekOfYear >= result.Promo2SinceWeek) )\n",
    "                # Or If promo started previous year, Week of Year doesn't matter\n",
    "                cond2 = condition & (result.Year > result.Promo2SinceYear)\n",
    "                final_condition = cond1 | cond2\n",
    "                result.loc[final_condition, 'IsPromo2Month'] = 1\n",
    "\n",
    "\n",
    "# detect if there is competition open at the time of the evaluation\n",
    "result['Competition'] = 0\n",
    "first_condition = result.Year > result.CompetitionOpenSinceYear\n",
    "second_condition = ((result.Year == result.CompetitionOpenSinceYear)\n",
    "          & (result.Month >= result.CompetitionOpenSinceMonth))\n",
    "fullcond = first_condition | second_condition\n",
    "result.loc[fullcond, 'Competition'] = 1"
   ]
  },
  {
   "cell_type": "code",
   "execution_count": null,
   "metadata": {
    "collapsed": true
   },
   "outputs": [],
   "source": [
    "#drop data that is not important anymore\n",
    "result.drop(['MonthCompare','PromoInterval','Date','Store'], axis=1, inplace=True)"
   ]
  },
  {
   "cell_type": "code",
   "execution_count": null,
   "metadata": {
    "collapsed": true
   },
   "outputs": [],
   "source": [
    "result.head()"
   ]
  },
  {
   "cell_type": "code",
   "execution_count": null,
   "metadata": {
    "collapsed": true
   },
   "outputs": [],
   "source": []
  },
  {
   "cell_type": "code",
   "execution_count": null,
   "metadata": {
    "collapsed": true
   },
   "outputs": [],
   "source": [
    "# def days_between(d1, d2): #d1 and d2 must be datetime object\n",
    "#     d1 = datetime.strptime(d1, \"%Y-%m-%d\")\n",
    "#     d2 = datetime.strptime(d2, \"%Y-%m-%d\")\n",
    "#     return abs((d2 - d1).days)"
   ]
  },
  {
   "cell_type": "code",
   "execution_count": null,
   "metadata": {
    "collapsed": true
   },
   "outputs": [],
   "source": [
    "# def scalling (category) :\n",
    "#     result[category] = result[category] - result[category].mean()\n",
    "#     \n",
    "# scalling ('Year')\n",
    "# scalling('Customers')\n",
    "\n",
    "# result['CompetitionDistance'] = result['CompetitionDistance'].fillna(0)\n",
    "# \n",
    "# result['CompetitionFar'] = 0*result['CompetitionDistance']\n",
    "\n",
    "\n",
    "        \n",
    "\n",
    "        "
   ]
  },
  {
   "cell_type": "code",
   "execution_count": null,
   "metadata": {
    "collapsed": true
   },
   "outputs": [],
   "source": [
    "# for i in range (result.shape[0]) :\n",
    "#     if result['CompetitionExist'].iloc[i] > 0 :\n",
    "#         result['CompetitionExist'].iloc[i] = 1\n",
    "#     else :\n",
    "#         result['CompetitionExist'].iloc[i] = 0\n",
    "        \n",
    "    # if result['CompetitionDistance'].iloc[i] > result['CompetitionDistance'].mean() :\n",
    "    #     result['CompetitionFar'].iloc[i] = 1\n",
    "    # else :\n",
    "    #     result['CompetitionFar'].iloc[i] = 0"
   ]
  },
  {
   "cell_type": "code",
   "execution_count": null,
   "metadata": {
    "collapsed": true
   },
   "outputs": [],
   "source": [
    "# replace the caracters by numbers, to be used in decision trees later\n",
    "mappings = {'0':0, 'a':1, 'b':2, 'c':3, 'd':4}\n",
    "result.StateHoliday.replace(mappings, inplace=True)\n",
    "result.StoreType.replace(mappings, inplace=True)\n",
    "result.Assortment.replace(mappings, inplace=True)"
   ]
  },
  {
   "cell_type": "code",
   "execution_count": null,
   "metadata": {
    "collapsed": true
   },
   "outputs": [],
   "source": [
    "# By analizing the data some funny behaviour can happen in the beginning or the end of every month\n",
    "# to adress this issue we add 2 more parameters to identify the beginning and end of month\n",
    "# finally in general the month of december behaves very differently than the others\n",
    "# because of christmas.\n",
    "\n",
    "result['Friday'] = 0\n",
    "result['EarlyInMonth'] = 0\n",
    "result['LateInMonth'] = 0\n",
    "result['December'] = 0\n",
    "result.loc[result.DayOfWeek == 5,'Friday'] = 1\n",
    "result.loc[result.Day < 5, 'EarlyInMonth'] = 1\n",
    "result.loc[result.Day > 25, 'LateInMonth'] = 1\n",
    "result.loc[result.Month == 12,'December'] = 1"
   ]
  },
  {
   "cell_type": "code",
   "execution_count": null,
   "metadata": {
    "collapsed": true
   },
   "outputs": [],
   "source": [
    "result = pandas.get_dummies(result, columns=['DayOfWeek', 'StateHoliday', 'StoreType', \n",
    "                                             'Assortment', 'Month', 'WeekOfYear', 'CompetitionOpenSinceYear', \n",
    "                                             'Promo2SinceYear'], dummy_na = True)"
   ]
  },
  {
   "cell_type": "code",
   "execution_count": null,
   "metadata": {
    "collapsed": true
   },
   "outputs": [],
   "source": [
    "df = result.iloc[:number_train,:]\n",
    "test = result.iloc[number_train:,:]"
   ]
  },
  {
   "cell_type": "code",
   "execution_count": null,
   "metadata": {
    "collapsed": true
   },
   "outputs": [],
   "source": [
    "df = df.astype(np.float32)\n",
    "test = test.astype(np.float32)"
   ]
  },
  {
   "cell_type": "code",
   "execution_count": null,
   "metadata": {
    "collapsed": true,
    "scrolled": true
   },
   "outputs": [],
   "source": []
  },
  {
   "cell_type": "code",
   "execution_count": null,
   "metadata": {
    "collapsed": true,
    "scrolled": true
   },
   "outputs": [],
   "source": [
    "#put the data as a numpy array\n",
    "data_train = df.values\n",
    "#sales_train = sales_train_train.values\n",
    "sales_train = pandas.DataFrame.as_matrix(sales_train)"
   ]
  },
  {
   "cell_type": "code",
   "execution_count": null,
   "metadata": {
    "collapsed": true
   },
   "outputs": [],
   "source": [
    "sales_train = sales_train.reshape(len(sales_train),)"
   ]
  },
  {
   "cell_type": "code",
   "execution_count": null,
   "metadata": {
    "collapsed": true
   },
   "outputs": [],
   "source": []
  },
  {
   "cell_type": "code",
   "execution_count": null,
   "metadata": {
    "collapsed": true
   },
   "outputs": [],
   "source": [
    "clf = svm.SVR(C=10.0, cache_size=200, coef0=0.0, degree=3, epsilon=0.05, gamma='auto',\n",
    "    kernel='rbf', max_iter = -1, shrinking=True, tol=0.005, verbose=False, ).fit(data_train, sales_train)"
   ]
  },
  {
   "cell_type": "code",
   "execution_count": null,
   "metadata": {
    "collapsed": true
   },
   "outputs": [],
   "source": [
    "prediction_of_sales = clf.predict(test)"
   ]
  },
  {
   "cell_type": "code",
   "execution_count": null,
   "metadata": {
    "collapsed": true
   },
   "outputs": [],
   "source": [
    "for i in range (number_test) :\n",
    "    if test['Customers'].iloc[i] == 0 :\n",
    "        prediction_of_sales[i] = 0"
   ]
  },
  {
   "cell_type": "code",
   "execution_count": null,
   "metadata": {
    "collapsed": true
   },
   "outputs": [],
   "source": [
    "from math import sqrt\n",
    "def rmspe(y,y_pred):\n",
    "    summ = 0\n",
    "    for i in range(len(y)):\n",
    "        if y[i] != 0:\n",
    "            summ += (1-y_pred[i]/y[i])**2\n",
    "    return sqrt(summ/len(y))"
   ]
  },
  {
   "cell_type": "code",
   "execution_count": null,
   "metadata": {
    "collapsed": true
   },
   "outputs": [],
   "source": [
    "prediction_of_sales_in_sample = clf.predict(data_train)"
   ]
  },
  {
   "cell_type": "code",
   "execution_count": null,
   "metadata": {
    "collapsed": true
   },
   "outputs": [],
   "source": [
    "rmspe (sales_train, prediction_of_sales_in_sample)"
   ]
  },
  {
   "cell_type": "code",
   "execution_count": null,
   "metadata": {
    "collapsed": true
   },
   "outputs": [],
   "source": [
    "submission = pandas.DataFrame()\n",
    "submission['Sales'] = prediction_of_sales\n",
    "# submission.Sales = submission.Sales.astype(int)\n",
    "cols = ['Id','Sales']\n",
    "submission['Id'] = submission.index + 1\n",
    "submission = submission[cols]\n",
    "submission.to_csv('submission_svr.csv', index=False)"
   ]
  },
  {
   "cell_type": "code",
   "execution_count": null,
   "metadata": {
    "collapsed": true
   },
   "outputs": [],
   "source": []
  },
  {
   "cell_type": "code",
   "execution_count": null,
   "metadata": {
    "collapsed": true
   },
   "outputs": [],
   "source": []
  },
  {
   "cell_type": "code",
   "execution_count": null,
   "metadata": {
    "collapsed": true
   },
   "outputs": [],
   "source": []
  },
  {
   "cell_type": "code",
   "execution_count": null,
   "metadata": {
    "collapsed": true
   },
   "outputs": [],
   "source": []
  },
  {
   "cell_type": "code",
   "execution_count": null,
   "metadata": {
    "collapsed": true
   },
   "outputs": [],
   "source": []
  }
 ],
 "metadata": {
  "kernelspec": {
   "display_name": "Python 3",
   "language": "python",
   "name": "python3"
  },
  "language_info": {
   "codemirror_mode": {
    "name": "ipython",
    "version": 3
   },
   "file_extension": ".py",
   "mimetype": "text/x-python",
   "name": "python",
   "nbconvert_exporter": "python",
   "pygments_lexer": "ipython3",
   "version": "3.6.1"
  }
 },
 "nbformat": 4,
 "nbformat_minor": 2
}
